{
  "nbformat": 4,
  "nbformat_minor": 0,
  "metadata": {
    "colab": {
      "name": "Greek Mythology Mini Quiz RC 092220.ipynb",
      "provenance": [],
      "collapsed_sections": []
    },
    "kernelspec": {
      "name": "python3",
      "display_name": "Python 3"
    }
  },
  "cells": [
    {
      "cell_type": "code",
      "metadata": {
        "id": "YKMqb1f0GFFc",
        "colab_type": "code",
        "colab": {}
      },
      "source": [
        "\n"
      ],
      "execution_count": null,
      "outputs": []
    },
    {
      "cell_type": "code",
      "metadata": {
        "id": "X7GQmhWGF-rD",
        "colab_type": "code",
        "colab": {
          "base_uri": "https://localhost:8080/",
          "height": 936
        },
        "outputId": "93f0f28b-3f40-4b3a-c2e8-8774fb521161"
      },
      "source": [
        "q0='Question 1:\\nWho was zeus’s wife?\\nA. Hera\\nB. Athena\\nC. Aphrodite\\nD. Artemis'\n",
        "q1='Question 2\\nAphrodite was the goddess of\\nA. Love and Beauty\\nB. Beauty and War\\nC. Love and Hate\\nD. Anger and Sex'\n",
        "q2='Question 3\\nHow was Athena born\\nA. From Zeus’s head\\nB. From the flowers\\nC. From Hera’s womb\\nD. From the ocean'\n",
        "q3='Question 4\\nWho was the God of war\\nA. Ares\\nB. Hephaestus\\nC. Hades\\nD. Dionesyus'\n",
        "q4='Question 5\\nIcarus flew too close to the what\\nA. Sun\\nB. Moon\\nC. Sea\\nD. Sand'\n",
        "\n",
        "QandA={q0:'a',q1:'a',q2:'a',q3:'a',q4:'a'} #dictionary of questions and correct answers for checking\n",
        "\n",
        "score=0\n",
        "\n",
        "print(\"Welcome into the World of Greek Mythology\")\n",
        "name=input(\"Let's start by carving your name onto this tablet: \")\n",
        "print(\"Welcome \"+ name.title() + \"!\"+\"\\nMake sure to finish this quiz\\nThere's no turning back now!\")\n",
        "print('Type the letter of your answers\\nPress any key to start')\n",
        "ent=input()\n",
        "\n",
        "for key in QandA: #calling all questions inside the dictionary\n",
        "    print(key)\n",
        "    answer=input('Answer: ')\n",
        "    if answer.lower()==QandA[key]: #checking the answer\n",
        "        score +=1\n",
        "        print('Way to go!')\n",
        "    else:\n",
        "        print('Boo you!')\n",
        "\n",
        "#calculating the rating\n",
        "rate=(score/5)*100\n",
        "\n",
        "#showing the result\n",
        "print('\\n\\n****************************')\n",
        "print('Your score is ', str(score), 'out of 5')\n",
        "if rate == 100:\n",
        "  print('Yaay! Perf!')\n",
        "elif rate < 100 and rate >=70:\n",
        "  print('Fair enough!')\n",
        "else:\n",
        "  print('Yikes!')\n",
        "\n",
        "\n"
      ],
      "execution_count": 4,
      "outputs": [
        {
          "output_type": "stream",
          "text": [
            "Welcome into the World of Greek Mythology\n",
            "Let's start by carving your name onto this tablet: raine\n",
            "Welcome Raine!\n",
            "Make sure to finish this quiz\n",
            "There's no turning back now!\n",
            "Type the letter of your answers\n",
            "Press any key to start\n",
            "\n",
            "Question 1:\n",
            "Who was zeus’s wife?\n",
            "A. Hera\n",
            "B. Athena\n",
            "C. Aphrodite\n",
            "D. Artemis\n",
            "Answer: a\n",
            "Way to go!\n",
            "Question 2\n",
            "Aphrodite was the goddess of\n",
            "A. Love and Beauty\n",
            "B. Beauty and War\n",
            "C. Love and Hate\n",
            "D. Anger and Sex\n",
            "Answer: a\n",
            "Way to go!\n",
            "Question 3\n",
            "How was Athena born\n",
            "A. From Zeus’s head\n",
            "B. From the flowers\n",
            "C. From Hera’s womb\n",
            "D. From the ocean\n",
            "Answer: s\n",
            "Boo you!\n",
            "Question 4\n",
            "Who was the God of war\n",
            "A. Ares\n",
            "B. Hephaestus\n",
            "C. Hades\n",
            "D. Dionesyus\n",
            "Answer: a\n",
            "Way to go!\n",
            "Question 5\n",
            "Icarus flew too close to the what\n",
            "A. Sun\n",
            "B. Moon\n",
            "C. Sea\n",
            "D. Sand\n",
            "Answer: a\n",
            "Way to go!\n",
            "\n",
            "\n",
            "****************************\n",
            "Your score is  4 out of 5\n",
            "Fair enough!\n"
          ],
          "name": "stdout"
        }
      ]
    }
  ]
}